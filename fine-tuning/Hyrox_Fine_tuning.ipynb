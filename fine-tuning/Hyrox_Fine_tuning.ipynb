{
 "cells": [
  {
   "cell_type": "markdown",
   "metadata": {
    "id": "A-sW7vb2uAAG"
   },
   "source": [
    "# Fine-tuning GPT-2"
   ]
  },
  {
   "cell_type": "code",
   "execution_count": null,
   "metadata": {
    "colab": {
     "base_uri": "https://localhost:8080/"
    },
    "id": "hO9TrYZOuHWP",
    "outputId": "db3615f1-2bce-4f48-f105-25e275b18429"
   },
   "outputs": [],
   "source": [
    "from google.colab import drive\n",
    "drive.mount('/content/drive/')"
   ]
  },
  {
   "cell_type": "code",
   "execution_count": null,
   "metadata": {
    "id": "q4DwAS-uuIvN"
   },
   "outputs": [],
   "source": [
    "# paths to dataset files stored in Google Drive\n",
    "DATA_DIR = '/content/drive/MyDrive/KeepCoding/Bootcamp_AI/8.LLMs/Assignment/'\n",
    "\n",
    "# instructed dataset\n",
    "PATH_HYROX_JSON_INSTRUCTED = f'{DATA_DIR}/hyrox_json_instructed.jsonl'\n",
    "PATH_HYROX_JSON_PROMPT_INSTRUCTED = f'{DATA_DIR}/hyrox_json_prompt_instructed.jsonl'\n",
    "PATH_HYROX_SPLIT_DATASET = f'{DATA_DIR}/hyrox_split_dataset'\n",
    "PATH_HYROX_TOKENIZER_GPT2 = f'{DATA_DIR}/hyrox_gpt2_tokenizer'\n",
    "PATH_HYROX_MODEL_GPT2 = f'{DATA_DIR}/hyrox_gpt2_model'"
   ]
  },
  {
   "cell_type": "code",
   "execution_count": null,
   "metadata": {
    "colab": {
     "base_uri": "https://localhost:8080/"
    },
    "id": "kKOqDiXYtxo8",
    "outputId": "832d47ac-3f5b-4ac8-f425-ae0f8f4d7822"
   },
   "outputs": [],
   "source": [
    "!pip install accelerate bitsandbytes datasets transformers trl -qU"
   ]
  },
  {
   "cell_type": "code",
   "execution_count": null,
   "metadata": {
    "id": "xczoQHofu8sm"
   },
   "outputs": [],
   "source": [
    "import pandas as pd\n",
    "from datasets import Dataset\n",
    "from datasets import DatasetDict\n",
    "from transformers import AutoTokenizer, AutoModelForCausalLM\n",
    "from transformers import GenerationConfig, pipeline, set_seed\n",
    "from transformers import TrainingArguments\n",
    "from trl import SFTTrainer\n"
   ]
  },
  {
   "cell_type": "code",
   "execution_count": null,
   "metadata": {
    "colab": {
     "base_uri": "https://localhost:8080/"
    },
    "id": "MngtthKjwcJ1",
    "outputId": "2c9750c0-4d00-4b33-afe3-2d4570879f2c"
   },
   "outputs": [],
   "source": [
    "# load the data into a pandas DataFrame\n",
    "hyrox_df = pd.read_json(PATH_HYROX_JSON_INSTRUCTED, lines=True)\n",
    "\n",
    "# convert it to a Dataset object\n",
    "hyrox_dataset = Dataset.from_pandas(hyrox_df)\n",
    "\n",
    "# shape\n",
    "hyrox_dataset.shape"
   ]
  },
  {
   "cell_type": "code",
   "execution_count": null,
   "metadata": {
    "colab": {
     "base_uri": "https://localhost:8080/"
    },
    "id": "1nNSVjzC8G9C",
    "outputId": "0e6848b9-b08d-473c-8d33-67515fc732dc"
   },
   "outputs": [],
   "source": [
    "hyrox_dataset[0]"
   ]
  },
  {
   "cell_type": "code",
   "execution_count": null,
   "metadata": {
    "id": "wZl_b6gCw4bP"
   },
   "outputs": [],
   "source": [
    "hyrox_dataset_train_test = hyrox_dataset.train_test_split(test_size=0.2)"
   ]
  },
  {
   "cell_type": "code",
   "execution_count": null,
   "metadata": {
    "colab": {
     "base_uri": "https://localhost:8080/"
    },
    "id": "6S-8Qb2oxJ-e",
    "outputId": "7e2709cb-c522-48f0-e564-84aee54e6369"
   },
   "outputs": [],
   "source": [
    "hyrox_dataset_train_test"
   ]
  },
  {
   "cell_type": "code",
   "execution_count": null,
   "metadata": {
    "id": "d_uHTy4gxNRY"
   },
   "outputs": [],
   "source": [
    "hyrox_dataset_val_test = hyrox_dataset_train_test['test'].train_test_split(test_size=0.5)"
   ]
  },
  {
   "cell_type": "code",
   "execution_count": null,
   "metadata": {
    "colab": {
     "base_uri": "https://localhost:8080/"
    },
    "id": "542D1mlUx4q0",
    "outputId": "10b2bcdb-437f-476f-bf9e-0878ce558ef1"
   },
   "outputs": [],
   "source": [
    "hyrox_dataset_val_test"
   ]
  },
  {
   "cell_type": "code",
   "execution_count": null,
   "metadata": {
    "id": "JR7VHXFDycLS"
   },
   "outputs": [],
   "source": [
    "split_hyrox_dataset = DatasetDict({\n",
    "    'train' : hyrox_dataset_train_test['train'],\n",
    "    'val' : hyrox_dataset_val_test['train'],\n",
    "    'test' : hyrox_dataset_val_test['test']\n",
    "})"
   ]
  },
  {
   "cell_type": "code",
   "execution_count": null,
   "metadata": {
    "colab": {
     "base_uri": "https://localhost:8080/"
    },
    "id": "9IJIqmg1yvi3",
    "outputId": "b798821d-523a-411d-fd6f-0319e7484f57"
   },
   "outputs": [],
   "source": [
    "split_hyrox_dataset"
   ]
  },
  {
   "cell_type": "markdown",
   "metadata": {
    "id": "jVzKw9K2zMm0"
   },
   "source": [
    "# Training Prompt Creation"
   ]
  },
  {
   "cell_type": "markdown",
   "metadata": {
    "id": "Z_lzV8mE-L-D"
   },
   "source": [
    "Two promts, one for training and other for inference which doesn't include the response."
   ]
  },
  {
   "cell_type": "code",
   "execution_count": null,
   "metadata": {
    "id": "qt5MUx3GzMR_"
   },
   "outputs": [],
   "source": [
    "HYROX_TRAINING_PROMPT_TEMPLATE = \"\"\"\\\n",
    "{bos_token}### Instruction:\n",
    "{system_message}\n",
    "\n",
    "### Input:\n",
    "{input}\n",
    "\n",
    "### Context:\n",
    "{context}\n",
    "\n",
    "### Response:\n",
    "{response}{eos_token}\n",
    "\"\"\"\n",
    "\n",
    "HYROX_INFERENCE_PROMPT_TEMPLATE = \"\"\"\\\n",
    "{bos_token}### Instruction:\n",
    "{system_message}\n",
    "\n",
    "### Input:\n",
    "{input}\n",
    "\n",
    "### Context:\n",
    "{context}\n",
    "\n",
    "### Response:{eos_token}\n",
    "\"\"\""
   ]
  },
  {
   "cell_type": "markdown",
   "metadata": {
    "id": "p_xQrcs--YpS"
   },
   "source": [
    "# System Message"
   ]
  },
  {
   "cell_type": "code",
   "execution_count": null,
   "metadata": {
    "id": "XKbvaf-k_DuX"
   },
   "outputs": [],
   "source": [
    "SYSTEM_MESSAGE = \"You are a performance analysis assistant for Hyrox athletes. Your job is to analyze performance data provided by atheles once they complete a Hyrox race and generate personalized, insightful feedback that helps the athlete improve.\""
   ]
  },
  {
   "cell_type": "code",
   "execution_count": null,
   "metadata": {
    "id": "2QZXwMw4_HYv"
   },
   "outputs": [],
   "source": [
    "def create_hyrox_prompt(sample):\n",
    "  full_prompt = HYROX_TRAINING_PROMPT_TEMPLATE.format(\n",
    "      bos_token = '<|startoftext|>',\n",
    "      eos_token = '<|endoftext|>',\n",
    "      system_message = SYSTEM_MESSAGE,\n",
    "      input = sample['input'],\n",
    "      context = sample['context'],\n",
    "      response = sample['response']\n",
    "  )\n",
    "\n",
    "  return {\"text\" : full_prompt}"
   ]
  },
  {
   "cell_type": "code",
   "execution_count": null,
   "metadata": {
    "id": "1TCKo5hK_dWi"
   },
   "outputs": [],
   "source": [
    "def create_hyrox_prompt_and_response(sample):\n",
    "  full_prompt = HYROX_INFERENCE_PROMPT_TEMPLATE.format(\n",
    "      bos_token = '<|startoftext|>',\n",
    "      eos_token = '<|endoftext|>',\n",
    "      system_message = SYSTEM_MESSAGE,\n",
    "      input = sample['input'],\n",
    "      context = sample['context']\n",
    "  )\n",
    "\n",
    "  ground_truth = sample['response']\n",
    "\n",
    "  return {\"full_prompt\" : full_prompt, \"ground_truth\" : ground_truth}"
   ]
  },
  {
   "cell_type": "code",
   "execution_count": null,
   "metadata": {
    "colab": {
     "base_uri": "https://localhost:8080/"
    },
    "id": "Nd5wfz5jAWdy",
    "outputId": "64348992-005c-4c7f-aefb-3d45a007915c"
   },
   "outputs": [],
   "source": [
    "split_hyrox_dataset['train'][0]"
   ]
  },
  {
   "cell_type": "code",
   "execution_count": null,
   "metadata": {
    "colab": {
     "base_uri": "https://localhost:8080/"
    },
    "id": "E5nRAHTOAco3",
    "outputId": "cc52b556-1d32-489b-a1d7-f6adfde80d19"
   },
   "outputs": [],
   "source": [
    "create_hyrox_prompt(split_hyrox_dataset['train'][0])"
   ]
  },
  {
   "cell_type": "code",
   "execution_count": null,
   "metadata": {
    "colab": {
     "base_uri": "https://localhost:8080/",
     "height": 113,
     "referenced_widgets": [
      "e4a2b0ac7c644d57a69dc3dab2adca98",
      "24119e1cc85a4f47bda8acb578b14fd2",
      "8e41d464f3f34b22950a36672906226c",
      "7b37944e3b2146b2863f5e4c32ab1b8b",
      "ebf9e8122fd44538acd04e8d61d72c32",
      "5beb69d6045e40739388e9d2c287b8ed",
      "f55ab0998387496599aa54677d97bec5",
      "43c8383f83fe4a359a9e771fa5e10815",
      "ebd80f75401841fd8ea4d7dec50f7abd",
      "32d230521baa4bc89884b5552f3f97f6",
      "1b429fab08d543858d049ebf5fac20dd",
      "1342b2cd45cf471d8ec40e5b3f78a83b",
      "fb41b20706264384aca1f2368fc1d0fd",
      "08f7ea368ddd4e6f951b1739ee1415b3",
      "a2ba35444eaa48e59ad72614a8983c3d",
      "aa4793d32f964200a6b5085a0df050b0",
      "9c7dd12027ef40abb8a94cf750404768",
      "ab41e3b1e8bb46d8a9dc5bf314cc87a0",
      "00445eb46bc64dcaab35ddc243eac9a0",
      "35021513c3834bc1b2119c4402a220a2",
      "8743530ff6824acca09fa2b44978779f",
      "920301d160f24b9dba06454f1dc748dc",
      "13b881ddf1b84768a2064d66cba163d8",
      "dc27e92f490e43c8a53932e2f9a2b923",
      "c50a3b2d5bc34d52bf92b031e742072b",
      "8087c2aae08e4094b691e0a098496430",
      "39711d81ea25472eb41a950466a5e955",
      "1378dc512f67404ca340fbccb1d62944",
      "03e6b5dbc15a46caa793c69a8992183b",
      "d8ab9b4fa488452fbfbb1b5d090292e2",
      "bed7d61ede2146a3a40578c9a676a343",
      "3b627a90cb0c4719a60a870e9202fc83",
      "6541c463300947168e47096a0905a261"
     ]
    },
    "id": "ziXdHUlwAz6M",
    "outputId": "9dc8903e-7ec0-4686-c7f6-8007097d627f"
   },
   "outputs": [],
   "source": [
    "# apply it to whole dataset\n",
    "split_hyrox_dataset = split_hyrox_dataset.map(create_hyrox_prompt)"
   ]
  },
  {
   "cell_type": "code",
   "execution_count": null,
   "metadata": {
    "colab": {
     "base_uri": "https://localhost:8080/"
    },
    "id": "Nw5x9aJ3BrXy",
    "outputId": "7bcc175e-e70b-4aa1-9b10-d7d678294db6"
   },
   "outputs": [],
   "source": [
    "split_hyrox_dataset['train'][0]"
   ]
  },
  {
   "cell_type": "code",
   "execution_count": null,
   "metadata": {
    "colab": {
     "base_uri": "https://localhost:8080/",
     "height": 113,
     "referenced_widgets": [
      "223de3ca072b480f8406881218d9d7ea",
      "8b75815fc4ec4dcea33ec83ca7ca1036",
      "f528e7e4e871425cab5ea4f595716e19",
      "1f802bca8821400e9ff7db7c3cbca579",
      "2a30bd802ff54e18a6730105d6d1856c",
      "d6ba1732e56344a8b8dde42f0c83f668",
      "85e635e0b9c049f4befb263cdacd6039",
      "a3fc8633d9214fe28a61484096ae1f41",
      "0a49168d7bd843658814405d42527034",
      "1b9bdebd027648aeb96848210c61bf14",
      "01381b511fbb4a5495500cd4d2d7a066",
      "61c37107e47441a6a1007814bec84bbf",
      "2a464b5e160943b199d4e04827fdda9a",
      "41ddfadf5ff94b47ad6cb52dfd86a705",
      "4451a4e2cb1847eb8be1fb436f89204f",
      "754cd07870094b3e8d8968605e3d5472",
      "023cca123b974507bac874951bf5a84a",
      "9e167afd8a134356be78c94242769762",
      "ea822fee9bcc416e884f53d145cb9694",
      "825f1c656a8049dda75844241d7f48d5",
      "b5051f8783e641738986cdea92947998",
      "3c219ca268194ef7bfb75ecd24d03f15",
      "a2e3cb59fc544ca7933508c7ff10781c",
      "9edadc2a2147448eb27737c029f12f47",
      "4561296dc8c641c082888b1bf5faa5ed",
      "681318183c8b4ecc80b6ace85eee8f1e",
      "476214180109473d9d5ba502a2995155",
      "b75c90edc0b34672bf4ac41d312e86b3",
      "a6302e5389cd447696ab94339a337eb8",
      "53e681ff31404037808f212a7ad1ac22",
      "f093d07e6c154b65a0eefa8494b2627f",
      "fe76fb210a194121aa030e49749798f8",
      "17d0dca28cf84dfd9954f8756f0584ca"
     ]
    },
    "id": "d-o9vOWUnlU4",
    "outputId": "3af8d3f7-10dc-4204-9314-8a534427479e"
   },
   "outputs": [],
   "source": [
    "# save the split dataset\n",
    "split_hyrox_dataset.save_to_disk(PATH_HYROX_SPLIT_DATASET)"
   ]
  },
  {
   "cell_type": "markdown",
   "metadata": {
    "id": "Zyxz_b9SCLhZ"
   },
   "source": [
    "<|startoftext|>\n",
    "\n",
    "### Instruction:\n",
    "\n",
    "You are a performance analysis assistant for Hyrox athletes. Your job is to analyze performance data provided by atheles once they complete a Hyrox race and generate personalized, insightful feedback that helps the athlete improve.\n",
    "\n",
    "### Input:\n",
    "\n",
    "Generate performance feedback based on prediction and true time\n",
    "\n",
    "### Context:\n",
    "gender: 0, age: 35-39, total_time: 5438, predicted: 5780, residual: -342, cluster: None\\n\\n\n",
    "\n",
    "### Response:\\\n",
    "You outperformed the model's prediction significantly — great job! You are performing in line with your cluster's average strengths.\n",
    "\n",
    "<|endoftext|>"
   ]
  },
  {
   "cell_type": "markdown",
   "metadata": {
    "id": "En2bqorvDXqu"
   },
   "source": [
    "# Load the model to tune and preprocess it"
   ]
  },
  {
   "cell_type": "code",
   "execution_count": null,
   "metadata": {
    "colab": {
     "base_uri": "https://localhost:8080/",
     "height": 363,
     "referenced_widgets": [
      "750d68cbb1f043d1b376a4899eca2276",
      "e49d5148fca04a9b80bbfe7610f95367",
      "ce82641968304b4791be72a33016fb90",
      "0ece7bfee65a4466906d64dddd2f1dd5",
      "1224caab95674cb9a613e57de5a01a15",
      "d99454277dbf44c5a41149c9a6fdba5e",
      "fc176c05d1994c0394450707e1c6c17b",
      "8d6d9cd1d95748118d1242020b05a6a9",
      "769996ade45e43fe876acfaf70bda967",
      "b02111cd7e5043ad9d5e7c7d77ef96f9",
      "0bf06f8d995443ea99da4f1b73c4fcfa",
      "fd423d3eb3aa452a8d8b573321a70cc8",
      "33a84312862845c08f4e5b52e25d1b29",
      "633ad4720fc24a7fb6093a49956e2b15",
      "ffce923ece644bb28cca05d8795678e9",
      "43fda0f027d14cdc960924941b16f073",
      "55eb971f049b4824815a4e5f840a5dd0",
      "59072c58552e4ad28bccdba6ec444009",
      "cc722eb4684548f6b8de80efa910c0f9",
      "d5566fd7196143a692fcdaa90e3096f6",
      "e819dc38ce8944deae3962937ec2a8ae",
      "9aeee54e36b74a7e943cbc702f8d0b1a",
      "ca69c97ede6d49d5af1772ab5b5451f7",
      "0eb88f9c927b4a2db068b19ea7d8a399",
      "51a2fc179e6441aeb566e2263e23a271",
      "64de65e8610c4167a6b2064677bfaf7d",
      "625775703b834f42bfdcd64fb512d4d5",
      "8ac8cc052a574b838022d6cb2647ba64",
      "badcccfb84004d7187b6d215c0c21413",
      "943dcb175c3c4636bf2e57b3371c7220",
      "f7cb7a6e93174e31ab586b98f676edf5",
      "8155f062a11d4a8b83867f3b636ba927",
      "e8a29952624e48598a03cc4daf03610a",
      "b2f5e93a511a455b9e4454b3dcb15497",
      "7b4447a885614f30a603ae958858a5ff",
      "54ef1b96c43f4d19b1bcd87745997800",
      "6e2172ea225f47b8b39564fc373ae2fd",
      "65375360ab204b4fb6b7d2fefba2a988",
      "dc323614bcf74cf6a6a10e855fce7aba",
      "8a36ce0f35a44e4bacb9aa2cdf2d3d29",
      "ebf385465e8a4eedb56bca3ec12cf42a",
      "c8af769ea11d4f539c9c9143504b4a48",
      "0d29625ef1984beba2042f7c5eb0abe1",
      "179f4c3da6cf46a9a7cc0048816e1225",
      "8bf9fe96073c42db909d75029ac80665",
      "6fff4f6353b2414484e926e3486649cd",
      "4074b99d888c4c65a93b29201d9e78bf",
      "2a05dc48285d4e03922f6697a0eb4502",
      "8e1dca8dbe104410b582932bc97c3f2d",
      "91e2afcbe98a4ea788b4674fb6a3cdb3",
      "3c90e77ba4fc4a4ca88f856b1ddc0610",
      "a02526aea5704eebbf960f42ee6fa413",
      "01b7ed3c588949fa9be66b75928c119f",
      "3a03885e11bf43778e9fdba6866de875",
      "2275e279c06d43fd8b8a00e503934e89",
      "10f3bd3a39d641d28e5204e513729afb",
      "cb083f9fbff9424abda8c80dbe644d6a",
      "dfbf97ef83aa4c95ba864013595588ba",
      "393f44aa86d048b389865be0a410bfb6",
      "ea8552f4b41e4d739be60da0501a963c",
      "adc4844d8f3a400e8b3a8073bd6eaf75",
      "dcd48729fc1f4c3fbfd9df4464f86b85",
      "65f9639b3c5844478c453d99fa6a8459",
      "63d9147de44947f191d5337cb7f6ffee",
      "d64ee47c72f142e1b673ff7efe641890",
      "13efda21cd4243619bba62ed47b05f36",
      "43177dc6cb564a668e3288dc30fde527",
      "a0627c7d72f84baea87e891f8ffc9236",
      "d4397b7139f24e78ab70640100dc3cc5",
      "a246cb564ce3413993f95bcdff87cf2f",
      "fa81ac7d19f24e80bf31830624b9caf2",
      "e2194f1d8f0040a0a9f6591f28d38b80",
      "dd3a21582b3e4df88e18d929056b8849",
      "e576c4d59b1d41c287ef535ed86deffa",
      "fffe87bfd3d347f0833b2a1c062965d1",
      "44e2a8f256344a1b8e7173f41f4496cb",
      "08fb8715fc004d1f8ea981d8a3326475"
     ]
    },
    "id": "Tt21kk5xFLw2",
    "outputId": "827c0aa5-ea6e-4ecc-fd51-9f150a55e8d4"
   },
   "outputs": [],
   "source": [
    "model_id = \"gpt2\"\n",
    "# model_id = \"mistralai/Mistral-7B-Instruct-v0.1\"\n",
    "model = AutoModelForCausalLM.from_pretrained(model_id)\n",
    "\n",
    "tokenizer = AutoTokenizer.from_pretrained(model_id)\n",
    "tokenizer.pad_token = tokenizer.eos_token"
   ]
  },
  {
   "cell_type": "code",
   "execution_count": null,
   "metadata": {
    "colab": {
     "base_uri": "https://localhost:8080/"
    },
    "id": "KgOAPgCMIjEG",
    "outputId": "ee0542ad-358b-47a4-c855-f38d54252cdc"
   },
   "outputs": [],
   "source": [
    "model.resize_token_embeddings(len(tokenizer))"
   ]
  },
  {
   "cell_type": "markdown",
   "metadata": {
    "id": "jEUXnDWAIq6M"
   },
   "source": [
    "Training pipeline"
   ]
  },
  {
   "cell_type": "code",
   "execution_count": null,
   "metadata": {
    "colab": {
     "base_uri": "https://localhost:8080/"
    },
    "id": "rV0yxB6PIs5R",
    "outputId": "dfec0ff1-866b-4eb4-8d39-283887c08395"
   },
   "outputs": [],
   "source": [
    "# init the text generation pipeline with model and tokenizer\n",
    "generator = pipeline('text-generation', model=model, tokenizer=tokenizer)\n",
    "\n",
    "# set the seed\n",
    "set_seed(42)\n",
    "\n",
    "def generate_sample(sample):\n",
    "  # Prepare the prompt generation, including the question and answer expected.\n",
    "  prompt_package = create_hyrox_prompt_and_response(sample)\n",
    "\n",
    "  # Config for text generation, setting params\n",
    "  generation_config = GenerationConfig(\n",
    "      max_new_tokens=50,\n",
    "      do_sample=True,\n",
    "      top_k=50,\n",
    "      temperature=1e-4,\n",
    "      eos_token_id=model.config.eos_token_id,\n",
    "  )\n",
    "\n",
    "  # Generate text based on the prompt and config\n",
    "  generation = generator(prompt_package[\"full_prompt\"], generation_config=generation_config)\n",
    "  print(\"---------------\")\n",
    "  print(\"Question:\")\n",
    "  print(sample[\"input\"])\n",
    "  print(\"---------------\")\n",
    "  print(\"Dataset Response\")\n",
    "  # Imprime la respuesta esperada para comparación.\n",
    "  print(prompt_package[\"ground_truth\"])\n",
    "  print(\"---------------\")\n",
    "  print(\"Model Response:\")\n",
    "  # Imprime la respuesta del modelo, eliminando el texto del prompt para mostrar solo el texto generado nuevo.\n",
    "  print(generation[0][\"generated_text\"].replace(prompt_package[\"full_prompt\"], \"\"))\n"
   ]
  },
  {
   "cell_type": "code",
   "execution_count": null,
   "metadata": {
    "colab": {
     "base_uri": "https://localhost:8080/"
    },
    "id": "n-wyPxx7KPGp",
    "outputId": "7680d015-8fa0-4c4f-c47e-ff3edd620e87"
   },
   "outputs": [],
   "source": [
    "generate_sample(split_hyrox_dataset[\"test\"][20])"
   ]
  },
  {
   "cell_type": "markdown",
   "metadata": {
    "id": "KMMfqpDVOM6R"
   },
   "source": [
    "The model is unabled to perform the task."
   ]
  },
  {
   "cell_type": "code",
   "execution_count": null,
   "metadata": {
    "id": "w-Yxg5cbOMZL"
   },
   "outputs": [],
   "source": [
    "training_args = TrainingArguments(\n",
    " per_device_train_batch_size=4,\n",
    " gradient_accumulation_steps=4,\n",
    " gradient_checkpointing =True,\n",
    " max_grad_norm= 0.3,\n",
    " #num_train_epochs=2,\n",
    " max_steps=100,\n",
    " learning_rate=2e-4,\n",
    " save_total_limit=3,\n",
    " logging_steps=10,\n",
    " output_dir=PATH_HYROX_MODEL_GPT2,\n",
    " optim=\"paged_adamw_32bit\",\n",
    " lr_scheduler_type=\"cosine\",\n",
    " #evaluation_strategy=\"steps\",\n",
    " eval_steps=50,\n",
    " warmup_ratio=0.05,\n",
    "    report_to=\"none\",\n",
    ")"
   ]
  },
  {
   "cell_type": "code",
   "execution_count": null,
   "metadata": {
    "colab": {
     "base_uri": "https://localhost:8080/",
     "height": 273,
     "referenced_widgets": [
      "19828278aa6f4030851a4c73ff7e488a",
      "468b847aed174016a1c9b703ea90fcbf",
      "a6364bd8499b468898d3dc6194053a36",
      "478443c868fb4569b045ecbe8b71691b",
      "826852614598493081158958c042e5ca",
      "32fbe0afe31d431abcdc52576572524f",
      "d49bd8ba6dae434c9b8eb283fd6538de",
      "5445b10a7e49442b88bb9931ea280727",
      "e2187aa5fc0a49debd01649a12d3426d",
      "02805074c16f4b9c87b20a14fa9c07b0",
      "5019f2f1e3b543e6a9415ebd385c102a",
      "ef8cf63cd8a84419abfd493444c3e5a9",
      "49c864ed4fd344e58baeea35edeb2c9c",
      "117d4b61fe204bc0a3eb0e1c954fe3d2",
      "259675d5afbb40d6886335d992518789",
      "dcf2721dfdcb4d2dae563c1762c29ce7",
      "daf516fce9154c4197225a271a3c51e7",
      "d52a72ef8e104f67ab0ed1b305c5e8a3",
      "dd8f7f4b748b45ae9f98095c8b1ada57",
      "70cd9fe06afd4b5f85e26daa197584c5",
      "8eb00d1c99bd4f3d8737899b44a44ed2",
      "83dcefcbff7f44bba7163a456f5be58a",
      "e557ce70538245a98edb36e0bf628681",
      "fe27628d219b44afad84746b572f29b1",
      "7ea6a85b6fff4393824187169a5c7b5c",
      "e3a435d2cc354ada8ce1192072ea973f",
      "7d1c2a0f8c8f40a7ba8c4c6d027dbac3",
      "4e0b23474bc74055b4691f03e6ef559f",
      "1031e1b77c684de59875a1ed3ea6699a",
      "272da01c3a3244ddb8ab9d56daf830b4",
      "27688583856549a1850c07bcd312a643",
      "d034665b194b4e68812609a1dee46860",
      "4383bc71731540bdb62a7cc8a46c887f",
      "5889838f66954603ab998925a32e6729",
      "d568a2f5eada434ab9b019e7702be256",
      "6a9113645ff24a30b826fd78be00bdcf",
      "26d5a5cb821448209f6f09f363cf4384",
      "06623594372c46868a5a3477a2c2856b",
      "e3ed3c2a98dc400ea5496616ba0f478f",
      "d361ffe8e9f94dd5834e69c53f56b599",
      "b7a48a5b4d4043a3ac3196b13f527e52",
      "aadd5fb725be4d87aff27f08cc404542",
      "a2cf765209784c6f8425f80c90ce6b99",
      "a55013c2ec5449949282f68a08c4b98a",
      "552f4b1c34974ddb98ef44fed5f14a96",
      "57ffb84effc7474d80948921aaa674c8",
      "25ad639767af4a549d96e5555f78f690",
      "8827c9a38eff4620bc7f02f26aec9dee",
      "2c10c6e880724ca8960204c92b97c6b3",
      "fa1c5a1789a64194a717c096648ddac4",
      "6c5c4b8afbf54179b8bcc43e75cb9547",
      "d74f8e6984ad4d12af7c339723cd1532",
      "57a21a4a47f142d38113d884d3b673d8",
      "91aac38993f245c883b838f02cd4237d",
      "a34c333a1220462688be5ffedc36a725",
      "0d2f2208e9114e129043e16046505db2",
      "b2bb116614844d9fa04a2b94b63419de",
      "25998b4049f846498a3977f0b51f9116",
      "42345ee7ad974f0cb39ce13e7df474c3",
      "b8976de9fcf04eb388627607d508f8f0",
      "be6f38521cde497590de42416f052292",
      "3aa2222c02e848e795c48b56eb68309b",
      "736d51fc92de482b97b4231526eccf5a",
      "dbe10160b80b4647bf6e549c6af4606f",
      "837bf4f9ee6e47c59d41cf9fca68b44c",
      "66d1ff97c31347f3a8ccc8909f55fab2",
      "f73eab56d2d24b13924523c47547bd59",
      "7e24f5e5858e42b0a0677455c3efd435",
      "6f5f24ec9567413fa3739e563aacc7d2",
      "36cc4a4912bb49b99f849851926d5304",
      "85f378ebe4f24fcbafbd812a29746b0b",
      "642c60155ae143d992aa1ccf878407a6",
      "bcc81c67ae7341738daa46922472259c",
      "63a0521a5bc749f68e06eaf282237e37",
      "3433b1b1101f4544ab098fbcc0274137",
      "0f9a46f77ff541c497cb0cd955f42914",
      "9bace070543349dd8f5c8e52583e7115",
      "1d7d5946846e49a7be2fabfeb528403e",
      "ff44f4d88a0a42c08b0bb6aea8eeb074",
      "7a6a2d417de84ff7b0d3e92e5de5db55",
      "6586f8922bcf4cbf8e918171aee0c4a6",
      "a543286917704715a3c54b164fd873c5",
      "91cee41f9784470cb8f59c50cf9769b8",
      "a05662aa003c485d88eaa509a2353ac4",
      "e75a892db1094e00b7ad20b152ab3588",
      "cb6a2ab1563f4b3a84b6fe89ce35d70b",
      "0593c88182fe4d96981bbf6557d7e773",
      "7aa93c6c67d94e7b8d1a3b484e2cceee"
     ]
    },
    "id": "ngBd6DHvPC3L",
    "outputId": "7dc6fda0-ebc3-4dbf-e2b6-0fc0d38ae79e"
   },
   "outputs": [],
   "source": [
    "trainer = SFTTrainer(\n",
    " model,\n",
    " train_dataset=split_hyrox_dataset['train'],\n",
    " eval_dataset=split_hyrox_dataset['val'],\n",
    " #tokenizer=gpt2_tokenizer,\n",
    " args=training_args\n",
    ")"
   ]
  },
  {
   "cell_type": "code",
   "execution_count": null,
   "metadata": {
    "colab": {
     "base_uri": "https://localhost:8080/",
     "height": 419
    },
    "id": "fnzG3G1JPgV9",
    "outputId": "68b1a3cf-ba49-43b4-c86c-12a6ea36f729"
   },
   "outputs": [],
   "source": [
    "trainer.train()"
   ]
  },
  {
   "cell_type": "code",
   "execution_count": null,
   "metadata": {
    "id": "LN2dGL61QLl_"
   },
   "outputs": [],
   "source": [
    "trainer.save_model()"
   ]
  },
  {
   "cell_type": "code",
   "execution_count": null,
   "metadata": {
    "colab": {
     "base_uri": "https://localhost:8080/"
    },
    "id": "K7SgwUAwP2dH",
    "outputId": "fc8d24d7-59a6-4899-8303-1b52f3b1cdb8"
   },
   "outputs": [],
   "source": [
    "tokenizer.save_pretrained(PATH_HYROX_TOKENIZER_GPT2)"
   ]
  },
  {
   "cell_type": "markdown",
   "metadata": {
    "id": "hr2bu21UdVou"
   },
   "source": [
    "# Test the model"
   ]
  },
  {
   "cell_type": "code",
   "execution_count": null,
   "metadata": {
    "id": "loRiAGGqilMV"
   },
   "outputs": [],
   "source": [
    "hyrox_gpt2_tokenizer = AutoTokenizer.from_pretrained(PATH_HYROX_TOKENIZER_GPT2)"
   ]
  },
  {
   "cell_type": "code",
   "execution_count": null,
   "metadata": {
    "id": "A2EwnfX3dUHD"
   },
   "outputs": [],
   "source": [
    "hyrox_gpt2_model = AutoModelForCausalLM.from_pretrained(PATH_HYROX_MODEL_GPT2)"
   ]
  },
  {
   "cell_type": "code",
   "execution_count": null,
   "metadata": {
    "colab": {
     "base_uri": "https://localhost:8080/"
    },
    "id": "fOE4bEODi9Wi",
    "outputId": "113893e8-1af6-4783-8911-8170473d6c9a"
   },
   "outputs": [],
   "source": [
    "generator = pipeline('text-generation', model=hyrox_gpt2_model, tokenizer=hyrox_gpt2_tokenizer)"
   ]
  },
  {
   "cell_type": "code",
   "execution_count": null,
   "metadata": {
    "colab": {
     "base_uri": "https://localhost:8080/"
    },
    "id": "TndRM710jsA9",
    "outputId": "9ac374c8-1185-44e0-9bef-fc172fe0ac06"
   },
   "outputs": [],
   "source": [
    "for i in range(20):\n",
    "    generate_sample(split_hyrox_dataset[\"test\"][i])\n",
    "    print('--------------------------------------------------------')"
   ]
  }
 ],
 "metadata": {
  "colab": {
   "provenance": []
  },
  "kernelspec": {
   "display_name": "Python 3",
   "name": "python3"
  },
  "language_info": {
   "name": "python"
  }
 },
 "nbformat": 4,
 "nbformat_minor": 0
}
